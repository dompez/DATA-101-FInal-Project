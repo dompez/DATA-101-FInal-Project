{
 "cells": [
  {
   "cell_type": "markdown",
   "id": "f4ed3973-e0e3-4bf7-8df1-42cba5d671ab",
   "metadata": {},
   "source": [
    "## Dominic's Notebook"
   ]
  },
  {
   "cell_type": "markdown",
   "id": "5e0be22c-915a-4807-a542-97641decce85",
   "metadata": {},
   "source": [
    "Test"
   ]
  }
 ],
 "metadata": {
  "kernelspec": {
   "display_name": "Python 3 (ipykernel)",
   "language": "python",
   "name": "python3"
  },
  "language_info": {
   "codemirror_mode": {
    "name": "ipython",
    "version": 3
   },
   "file_extension": ".py",
   "mimetype": "text/x-python",
   "name": "python",
   "nbconvert_exporter": "python",
   "pygments_lexer": "ipython3",
   "version": "3.11.7"
  }
 },
 "nbformat": 4,
 "nbformat_minor": 5
}
