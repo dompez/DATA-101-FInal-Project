{
 "cells": [
  {
   "cell_type": "markdown",
   "id": "f4ed3973-e0e3-4bf7-8df1-42cba5d671ab",
   "metadata": {},
   "source": [
    "## Dominic's Notebook"
   ]
  },
  {
   "cell_type": "code",
   "execution_count": 1,
   "id": "b3e29a17-718e-46fc-8ae6-a9948379cab5",
   "metadata": {},
   "outputs": [
    {
     "ename": "NameError",
     "evalue": "name 'df_CDBG' is not defined",
     "output_type": "error",
     "traceback": [
      "\u001b[0;31m---------------------------------------------------------------------------\u001b[0m",
      "\u001b[0;31mNameError\u001b[0m                                 Traceback (most recent call last)",
      "Cell \u001b[0;32mIn[1], line 1\u001b[0m\n\u001b[0;32m----> 1\u001b[0m df_CDBG\n",
      "\u001b[0;31mNameError\u001b[0m: name 'df_CDBG' is not defined"
     ]
    }
   ],
   "source": [
    "file = 'Datasets/CDBG.csv'\n"
   ]
  }
 ],
 "metadata": {
  "kernelspec": {
   "display_name": "Python 3 (ipykernel)",
   "language": "python",
   "name": "python3"
  },
  "language_info": {
   "codemirror_mode": {
    "name": "ipython",
    "version": 3
   },
   "file_extension": ".py",
   "mimetype": "text/x-python",
   "name": "python",
   "nbconvert_exporter": "python",
   "pygments_lexer": "ipython3",
   "version": "3.11.7"
  }
 },
 "nbformat": 4,
 "nbformat_minor": 5
}
