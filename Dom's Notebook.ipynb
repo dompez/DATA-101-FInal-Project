{
 "cells": [
  {
   "cell_type": "markdown",
   "id": "f4ed3973-e0e3-4bf7-8df1-42cba5d671ab",
   "metadata": {},
   "source": [
    "## Dominic's Notebook"
   ]
  },
  {
   "cell_type": "markdown",
   "id": "7dbfaf21-76e0-4a05-a7e3-0d770221c91b",
   "metadata": {},
   "source": [
    "### Question: How to certain indicators of poverty affect the number of homes below 50% of an area's median income?\n",
    "\n"
   ]
  },
  {
   "cell_type": "code",
   "execution_count": null,
   "id": "8c916b5a-6c49-4d0d-8e99-2bc507673c14",
   "metadata": {},
   "outputs": [],
   "source": []
  },
  {
   "cell_type": "code",
   "execution_count": 2,
   "id": "9c73eafc-88b1-4eb9-941c-b355d6522142",
   "metadata": {},
   "outputs": [],
   "source": [
    "import pandas as pd"
   ]
  },
  {
   "cell_type": "code",
   "execution_count": 14,
   "id": "670276e8-1734-4e4c-91f0-a971bd8754a3",
   "metadata": {},
   "outputs": [],
   "source": [
    "# Loading in datasets\n",
    "# Due to some of the integers starting with zero, we have to change them to strings.\n",
    "file = 'Datasets/CHAS.csv'\n",
    "df_CHAS = pd.read_csv(file, dtype = {'GEOID': str,'STATE':str})\n",
    "file = 'Datasets/Demographic.csv'\n",
    "df_Demo = pd.read_csv(file, dtype = {'GEOID': str,'STATE':str})\n",
    "file = 'Datasets/Housing.csv'\n",
    "df_Housing = pd.read_csv(file, dtype = {'GEOID': str,'STATE':str})\n",
    "file = 'Datasets/Socioeconomic.csv'\n",
    "df_Socioeconomic = pd.read_csv(file, dtype = {'GEOID': str,'STATE':str})\n",
    "file = 'Datasets/CDBG.csv'\n",
    "df_CDBG = pd.read_csv(file, dtype = {'ZIP': str})"
   ]
  },
  {
   "cell_type": "code",
   "execution_count": 15,
   "id": "d2f7dbbd-37b2-4744-8a7a-59988cd7e278",
   "metadata": {},
   "outputs": [],
   "source": [
    "#Limiting datasets to California (06):\n",
    "df_CHAS = df_CHAS[df_CHAS['STATE'] == '06']\n",
    "df_Demo = df_Demo[df_Demo['STATE'] == '06']\n",
    "df_Housing = df_Housing[df_Housing['STATE'] == '06']\n",
    "df_Socioeconomic = df_Socioeconomic[df_Socioeconomic['STATE'] == '06']\n",
    "df_CDBG = df_CDBG[df_CDBG['STATE'] == 'CA']"
   ]
  },
  {
   "cell_type": "code",
   "execution_count": null,
   "id": "72f52e73-d28b-4dc1-9425-fc5b26321def",
   "metadata": {},
   "outputs": [],
   "source": [
    "#Selecting specific columns:\n",
    "#"
   ]
  }
 ],
 "metadata": {
  "kernelspec": {
   "display_name": "Python 3 (ipykernel)",
   "language": "python",
   "name": "python3"
  },
  "language_info": {
   "codemirror_mode": {
    "name": "ipython",
    "version": 3
   },
   "file_extension": ".py",
   "mimetype": "text/x-python",
   "name": "python",
   "nbconvert_exporter": "python",
   "pygments_lexer": "ipython3",
   "version": "3.11.7"
  }
 },
 "nbformat": 4,
 "nbformat_minor": 5
}
